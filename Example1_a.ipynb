{
  "nbformat": 4,
  "nbformat_minor": 0,
  "metadata": {
    "colab": {
      "name": "Example1.ipynb",
      "provenance": [],
      "collapsed_sections": [],
      "include_colab_link": true
    },
    "kernelspec": {
      "name": "python3",
      "display_name": "Python 3"
    }
  },
  "cells": [
    {
      "cell_type": "markdown",
      "metadata": {
        "id": "view-in-github",
        "colab_type": "text"
      },
      "source": [
        "<a href=\"https://colab.research.google.com/github/inayat1972/COLabScripts/blob/master/Example1_a.ipynb\" target=\"_parent\"><img src=\"https://colab.research.google.com/assets/colab-badge.svg\" alt=\"Open In Colab\"/></a>"
      ]
    },
    {
      "cell_type": "code",
      "metadata": {
        "id": "Czs_2u6c88b6",
        "colab_type": "code",
        "colab": {
          "base_uri": "https://localhost:8080/",
          "height": 272
        },
        "outputId": "db872993-36f6-4603-f4d2-c1cf76f815c7"
      },
      "source": [
        "# pip install --upgrade keras"
      ],
      "execution_count": 37,
      "outputs": [
        {
          "output_type": "stream",
          "text": [
            "Collecting keras\n",
            "\u001b[?25l  Downloading https://files.pythonhosted.org/packages/ad/fd/6bfe87920d7f4fd475acd28500a42482b6b84479832bdc0fe9e589a60ceb/Keras-2.3.1-py2.py3-none-any.whl (377kB)\n",
            "\r\u001b[K     |▉                               | 10kB 21.0MB/s eta 0:00:01\r\u001b[K     |█▊                              | 20kB 3.2MB/s eta 0:00:01\r\u001b[K     |██▋                             | 30kB 4.6MB/s eta 0:00:01\r\u001b[K     |███▌                            | 40kB 2.9MB/s eta 0:00:01\r\u001b[K     |████▍                           | 51kB 3.6MB/s eta 0:00:01\r\u001b[K     |█████▏                          | 61kB 4.3MB/s eta 0:00:01\r\u001b[K     |██████                          | 71kB 5.0MB/s eta 0:00:01\r\u001b[K     |███████                         | 81kB 5.6MB/s eta 0:00:01\r\u001b[K     |███████▉                        | 92kB 6.3MB/s eta 0:00:01\r\u001b[K     |████████▊                       | 102kB 4.8MB/s eta 0:00:01\r\u001b[K     |█████████▌                      | 112kB 4.8MB/s eta 0:00:01\r\u001b[K     |██████████▍                     | 122kB 4.8MB/s eta 0:00:01\r\u001b[K     |███████████▎                    | 133kB 4.8MB/s eta 0:00:01\r\u001b[K     |████████████▏                   | 143kB 4.8MB/s eta 0:00:01\r\u001b[K     |█████████████                   | 153kB 4.8MB/s eta 0:00:01\r\u001b[K     |█████████████▉                  | 163kB 4.8MB/s eta 0:00:01\r\u001b[K     |██████████████▊                 | 174kB 4.8MB/s eta 0:00:01\r\u001b[K     |███████████████▋                | 184kB 4.8MB/s eta 0:00:01\r\u001b[K     |████████████████▌               | 194kB 4.8MB/s eta 0:00:01\r\u001b[K     |█████████████████▍              | 204kB 4.8MB/s eta 0:00:01\r\u001b[K     |██████████████████▏             | 215kB 4.8MB/s eta 0:00:01\r\u001b[K     |███████████████████             | 225kB 4.8MB/s eta 0:00:01\r\u001b[K     |████████████████████            | 235kB 4.8MB/s eta 0:00:01\r\u001b[K     |████████████████████▉           | 245kB 4.8MB/s eta 0:00:01\r\u001b[K     |█████████████████████▊          | 256kB 4.8MB/s eta 0:00:01\r\u001b[K     |██████████████████████▌         | 266kB 4.8MB/s eta 0:00:01\r\u001b[K     |███████████████████████▍        | 276kB 4.8MB/s eta 0:00:01\r\u001b[K     |████████████████████████▎       | 286kB 4.8MB/s eta 0:00:01\r\u001b[K     |█████████████████████████▏      | 296kB 4.8MB/s eta 0:00:01\r\u001b[K     |██████████████████████████      | 307kB 4.8MB/s eta 0:00:01\r\u001b[K     |██████████████████████████▉     | 317kB 4.8MB/s eta 0:00:01\r\u001b[K     |███████████████████████████▊    | 327kB 4.8MB/s eta 0:00:01\r\u001b[K     |████████████████████████████▋   | 337kB 4.8MB/s eta 0:00:01\r\u001b[K     |█████████████████████████████▌  | 348kB 4.8MB/s eta 0:00:01\r\u001b[K     |██████████████████████████████▍ | 358kB 4.8MB/s eta 0:00:01\r\u001b[K     |███████████████████████████████▏| 368kB 4.8MB/s eta 0:00:01\r\u001b[K     |████████████████████████████████| 378kB 4.8MB/s \n",
            "\u001b[?25hRequirement already satisfied, skipping upgrade: scipy>=0.14 in /usr/local/lib/python3.6/dist-packages (from keras) (1.3.2)\n",
            "Requirement already satisfied, skipping upgrade: numpy>=1.9.1 in /tensorflow-2.0.0/python3.6 (from keras) (1.17.4)\n",
            "Requirement already satisfied, skipping upgrade: keras-preprocessing>=1.0.5 in /tensorflow-2.0.0/python3.6 (from keras) (1.1.0)\n",
            "Requirement already satisfied, skipping upgrade: keras-applications>=1.0.6 in /tensorflow-2.0.0/python3.6 (from keras) (1.0.8)\n",
            "Requirement already satisfied, skipping upgrade: six>=1.9.0 in /tensorflow-2.0.0/python3.6 (from keras) (1.13.0)\n",
            "Requirement already satisfied, skipping upgrade: pyyaml in /usr/local/lib/python3.6/dist-packages (from keras) (3.13)\n",
            "Requirement already satisfied, skipping upgrade: h5py in /tensorflow-2.0.0/python3.6 (from keras) (2.10.0)\n",
            "Installing collected packages: keras\n",
            "  Found existing installation: Keras 2.2.5\n",
            "    Uninstalling Keras-2.2.5:\n",
            "      Successfully uninstalled Keras-2.2.5\n",
            "Successfully installed keras-2.3.1\n"
          ],
          "name": "stdout"
        }
      ]
    },
    {
      "cell_type": "code",
      "metadata": {
        "id": "ZJYHeV21fI10",
        "colab_type": "code",
        "outputId": "e0e18e35-f095-4ba7-9d39-f864d91d1d19",
        "colab": {
          "base_uri": "https://localhost:8080/",
          "height": 34
        }
      },
      "source": [
        "%tensorflow_version 2.x\n",
        "import tensorflow\n",
        "print(tensorflow.__version__)\n"
      ],
      "execution_count": 64,
      "outputs": [
        {
          "output_type": "stream",
          "text": [
            "2.0.0\n"
          ],
          "name": "stdout"
        }
      ]
    },
    {
      "cell_type": "code",
      "metadata": {
        "id": "DE3_oOF62p6f",
        "colab_type": "code",
        "colab": {}
      },
      "source": [
        "import tensorflow as tf\n",
        "#tf.logging.set_verbosity(tf.logging.ERROR)\n",
        "\n",
        "import numpy as np\n"
      ],
      "execution_count": 0,
      "outputs": []
    },
    {
      "cell_type": "code",
      "metadata": {
        "id": "ZjdNDDq-5Iug",
        "colab_type": "code",
        "outputId": "3c393e4f-448d-4c00-bc2d-1edda973a15c",
        "colab": {
          "base_uri": "https://localhost:8080/",
          "height": 136
        }
      },
      "source": [
        "input_data    = np.array([5, 4,  8,  10, 15, 25,  35], dtype=float)\n",
        "output_data   = np.array([21,  17, 34, 42, 63, 105, 147], dtype=float)\n",
        "\n",
        "for i,c in enumerate(input_data):\n",
        "  print(\"{} input data = {} output data\".format(c, output_data[i]))"
      ],
      "execution_count": 67,
      "outputs": [
        {
          "output_type": "stream",
          "text": [
            "5.0 input data = 21.0 output data\n",
            "4.0 input data = 17.0 output data\n",
            "8.0 input data = 34.0 output data\n",
            "10.0 input data = 42.0 output data\n",
            "15.0 input data = 63.0 output data\n",
            "25.0 input data = 105.0 output data\n",
            "35.0 input data = 147.0 output data\n"
          ],
          "name": "stdout"
        }
      ]
    },
    {
      "cell_type": "code",
      "metadata": {
        "id": "olkjyGFc5t83",
        "colab_type": "code",
        "colab": {
          "base_uri": "https://localhost:8080/",
          "height": 51
        },
        "outputId": "6d6d5976-ec9b-4fd6-a6e6-7e4032449ff2"
      },
      "source": [
        "l0 = tf.keras.layers.Dense(units=1, input_shape=[1])\n",
        "\n",
        "model = tf.keras.Sequential([l0])\n",
        "\n",
        "model.compile(loss='mean_squared_error',optimizer=tf.keras.optimizers.Adam(0.10))\n",
        "\n",
        "history = model.fit(input_data, output_data, epochs=500, verbose=False)\n",
        "print(\"Finished training the model\")\n"
      ],
      "execution_count": 72,
      "outputs": [
        {
          "output_type": "stream",
          "text": [
            "Finished training the model\n",
            "[[415.71536]]\n"
          ],
          "name": "stdout"
        }
      ]
    },
    {
      "cell_type": "code",
      "metadata": {
        "id": "vNHqg7yS6sw6",
        "colab_type": "code",
        "colab": {
          "base_uri": "https://localhost:8080/",
          "height": 34
        },
        "outputId": "6c89d383-11c9-4323-d36e-0eee231696bc"
      },
      "source": [
        "\n",
        "l0 = tf.keras.layers.Dense(units=4, input_shape=[1])\n",
        "l1 = tf.keras.layers.Dense(units=4)\n",
        "l2 = tf.keras.layers.Dense(units=1)\n",
        "\n",
        "model = tf.keras.Sequential([l0, l1, l2])\n",
        "\n",
        "model.compile(loss='mean_squared_error', optimizer=tf.keras.optimizers.Adam(0.10))\n",
        "\n",
        "model.fit(input_data, output_data, epochs=500, verbose=False)\n",
        "print(\"Finished training the model\")\n"
      ],
      "execution_count": 82,
      "outputs": [
        {
          "output_type": "stream",
          "text": [
            "Finished training the model\n"
          ],
          "name": "stdout"
        }
      ]
    },
    {
      "cell_type": "code",
      "metadata": {
        "id": "-lSGJeGD779w",
        "colab_type": "code",
        "outputId": "810fe568-a664-4304-8cd8-0563aac2c964",
        "colab": {
          "base_uri": "https://localhost:8080/",
          "height": 296
        }
      },
      "source": [
        "import matplotlib.pyplot as plt\n",
        "plt.xlabel('Epoch Number')\n",
        "plt.ylabel('Loss Magnitude')\n",
        "plt.plot(history.history['loss'])"
      ],
      "execution_count": 57,
      "outputs": [
        {
          "output_type": "execute_result",
          "data": {
            "text/plain": [
              "[<matplotlib.lines.Line2D at 0x7fa46b707fd0>]"
            ]
          },
          "metadata": {
            "tags": []
          },
          "execution_count": 57
        },
        {
          "output_type": "display_data",
          "data": {
            "image/png": "[encoded data removed]",
            "text/plain": [
              "<Figure size 432x288 with 1 Axes>"
            ]
          },
          "metadata": {
            "tags": []
          }
        }
      ]
    },
    {
      "cell_type": "code",
      "metadata": {
        "id": "QQNm4P0T8VSw",
        "colab_type": "code",
        "colab": {
          "base_uri": "https://localhost:8080/",
          "height": 34
        },
        "outputId": "5a4ff325-4003-402f-fd04-d40d3c580c48"
      },
      "source": [
        "print(model.predict([100]))"
      ],
      "execution_count": 87,
      "outputs": [
        {
          "output_type": "stream",
          "text": [
            "[[419.57526]]\n"
          ],
          "name": "stdout"
        }
      ]
    },
    {
      "cell_type": "code",
      "metadata": {
        "id": "jB5Ji-Lv9CdI",
        "colab_type": "code",
        "outputId": "deb0c695-f8df-4b62-d20c-444892796d07",
        "colab": {
          "base_uri": "https://localhost:8080/",
          "height": 34
        }
      },
      "source": [
        "print(\"These are the layer variables : {}\".format(l0.get_weights()))"
      ],
      "execution_count": 17,
      "outputs": [
        {
          "output_type": "stream",
          "text": [
            "These are the layer variables : [array([[4.1940236]], dtype=float32), array([0.17278638], dtype=float32)]\n"
          ],
          "name": "stdout"
        }
      ]
    }
  ]
}